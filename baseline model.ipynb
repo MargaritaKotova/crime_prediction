{
 "cells": [
  {
   "cell_type": "code",
   "execution_count": 329,
   "metadata": {},
   "outputs": [],
   "source": [
    "import numpy as np\n",
    "import pandas as pd\n",
    "from sklearn.preprocessing import MinMaxScaler "
   ]
  },
  {
   "cell_type": "code",
   "execution_count": 330,
   "metadata": {},
   "outputs": [],
   "source": [
    "df = pd.read_csv('Desktop/crime.csv', sep=';', engine='python')"
   ]
  },
  {
   "cell_type": "code",
   "execution_count": 331,
   "metadata": {},
   "outputs": [],
   "source": [
    "df['salary'] = df['salary'].astype('int64')\n",
    "df['population'] = df['population'].astype('int64')"
   ]
  },
  {
   "cell_type": "code",
   "execution_count": 332,
   "metadata": {},
   "outputs": [
    {
     "data": {
      "text/html": [
       "<div>\n",
       "<style scoped>\n",
       "    .dataframe tbody tr th:only-of-type {\n",
       "        vertical-align: middle;\n",
       "    }\n",
       "\n",
       "    .dataframe tbody tr th {\n",
       "        vertical-align: top;\n",
       "    }\n",
       "\n",
       "    .dataframe thead th {\n",
       "        text-align: right;\n",
       "    }\n",
       "</style>\n",
       "<table border=\"1\" class=\"dataframe\">\n",
       "  <thead>\n",
       "    <tr style=\"text-align: right;\">\n",
       "      <th></th>\n",
       "      <th>region</th>\n",
       "      <th>year</th>\n",
       "      <th>workless people</th>\n",
       "      <th>salary</th>\n",
       "      <th>crime level</th>\n",
       "      <th>population</th>\n",
       "    </tr>\n",
       "  </thead>\n",
       "  <tbody>\n",
       "    <tr>\n",
       "      <th>0</th>\n",
       "      <td>Адыгея</td>\n",
       "      <td>2017</td>\n",
       "      <td>17600</td>\n",
       "      <td>23040</td>\n",
       "      <td>4014</td>\n",
       "      <td>453366</td>\n",
       "    </tr>\n",
       "    <tr>\n",
       "      <th>1</th>\n",
       "      <td>Алтайский край</td>\n",
       "      <td>2017</td>\n",
       "      <td>78200</td>\n",
       "      <td>23595</td>\n",
       "      <td>40055</td>\n",
       "      <td>2365680</td>\n",
       "    </tr>\n",
       "    <tr>\n",
       "      <th>2</th>\n",
       "      <td>Амурская область</td>\n",
       "      <td>2017</td>\n",
       "      <td>24300</td>\n",
       "      <td>39606</td>\n",
       "      <td>18505</td>\n",
       "      <td>801752</td>\n",
       "    </tr>\n",
       "    <tr>\n",
       "      <th>3</th>\n",
       "      <td>Архангельская область</td>\n",
       "      <td>2017</td>\n",
       "      <td>38000</td>\n",
       "      <td>43089</td>\n",
       "      <td>19193</td>\n",
       "      <td>1121813</td>\n",
       "    </tr>\n",
       "    <tr>\n",
       "      <th>4</th>\n",
       "      <td>Астраханская область</td>\n",
       "      <td>2017</td>\n",
       "      <td>40000</td>\n",
       "      <td>27900</td>\n",
       "      <td>13432</td>\n",
       "      <td>1018866</td>\n",
       "    </tr>\n",
       "  </tbody>\n",
       "</table>\n",
       "</div>"
      ],
      "text/plain": [
       "                  region   year  workless people  salary  crime level  \\\n",
       "0                 Адыгея   2017            17600   23040         4014   \n",
       "1         Алтайский край   2017            78200   23595        40055   \n",
       "2       Амурская область   2017            24300   39606        18505   \n",
       "3  Архангельская область   2017            38000   43089        19193   \n",
       "4   Астраханская область   2017            40000   27900        13432   \n",
       "\n",
       "   population  \n",
       "0      453366  \n",
       "1     2365680  \n",
       "2      801752  \n",
       "3     1121813  \n",
       "4     1018866  "
      ]
     },
     "execution_count": 332,
     "metadata": {},
     "output_type": "execute_result"
    }
   ],
   "source": [
    "df.head()"
   ]
  },
  {
   "cell_type": "code",
   "execution_count": 333,
   "metadata": {},
   "outputs": [
    {
     "data": {
      "text/plain": [
       "Index(['region', ' year', 'workless people', 'salary', 'crime level',\n",
       "       'population'],\n",
       "      dtype='object')"
      ]
     },
     "execution_count": 333,
     "metadata": {},
     "output_type": "execute_result"
    }
   ],
   "source": [
    "df.columns"
   ]
  },
  {
   "cell_type": "code",
   "execution_count": 334,
   "metadata": {},
   "outputs": [
    {
     "data": {
      "text/plain": [
       "(340, 6)"
      ]
     },
     "execution_count": 334,
     "metadata": {},
     "output_type": "execute_result"
    }
   ],
   "source": [
    "df.shape"
   ]
  },
  {
   "cell_type": "markdown",
   "metadata": {},
   "source": [
    "#### Вычислим коэффициенты корреляции между числом преступлений, зарплатой и безработицей в исходной выборке"
   ]
  },
  {
   "cell_type": "code",
   "execution_count": 335,
   "metadata": {},
   "outputs": [
    {
     "name": "stdout",
     "output_type": "stream",
     "text": [
      "Correlation coefficient between workless people and crime level: 0.7260152795027354\n"
     ]
    }
   ],
   "source": [
    "x = df['workless people']/df['workless people'][0]\n",
    "y = df['crime level']/df['crime level'][0]\n",
    "print(\"Correlation coefficient between workless people and crime level:\", np.corrcoef(x,y)[0][1])"
   ]
  },
  {
   "cell_type": "code",
   "execution_count": 336,
   "metadata": {},
   "outputs": [
    {
     "name": "stdout",
     "output_type": "stream",
     "text": [
      "Correlation coefficient between salary and crime level: 0.13926539477425265\n"
     ]
    }
   ],
   "source": [
    "x = df['salary']/df['salary'][0]\n",
    "y = df['crime level']/df['crime level'][0]\n",
    "print(\"Correlation coefficient between salary and crime level:\", np.corrcoef(x,y)[0][1])"
   ]
  },
  {
   "cell_type": "markdown",
   "metadata": {},
   "source": [
    "По полученным значениям можно сделать вывод, что между количеством безработных и количеством преступлений сильная прямая связь, то есть чем больше один показатель, тем больше другой. Между размером зарплаты и числом преступлений связь практически отсутствует."
   ]
  },
  {
   "cell_type": "markdown",
   "metadata": {},
   "source": [
    "### Нормализация данных"
   ]
  },
  {
   "cell_type": "code",
   "execution_count": 337,
   "metadata": {},
   "outputs": [],
   "source": [
    "X_for_scale = pd.concat([df['workless people'], df['salary'], df['crime level']], axis=1, keys=['workless people', 'salary', 'crime level'])"
   ]
  },
  {
   "cell_type": "code",
   "execution_count": 338,
   "metadata": {},
   "outputs": [],
   "source": [
    "scaler = MinMaxScaler()\n",
    "new_df=pd.DataFrame(scaler.fit_transform(X_for_scale), columns=['workless people', 'salary', 'crime level'])"
   ]
  },
  {
   "cell_type": "code",
   "execution_count": 339,
   "metadata": {},
   "outputs": [
    {
     "data": {
      "text/html": [
       "<div>\n",
       "<style scoped>\n",
       "    .dataframe tbody tr th:only-of-type {\n",
       "        vertical-align: middle;\n",
       "    }\n",
       "\n",
       "    .dataframe tbody tr th {\n",
       "        vertical-align: top;\n",
       "    }\n",
       "\n",
       "    .dataframe thead th {\n",
       "        text-align: right;\n",
       "    }\n",
       "</style>\n",
       "<table border=\"1\" class=\"dataframe\">\n",
       "  <thead>\n",
       "    <tr style=\"text-align: right;\">\n",
       "      <th></th>\n",
       "      <th>workless people</th>\n",
       "      <th>salary</th>\n",
       "      <th>crime level</th>\n",
       "    </tr>\n",
       "  </thead>\n",
       "  <tbody>\n",
       "    <tr>\n",
       "      <th>0</th>\n",
       "      <td>0.093610</td>\n",
       "      <td>0.060362</td>\n",
       "      <td>0.016975</td>\n",
       "    </tr>\n",
       "    <tr>\n",
       "      <th>1</th>\n",
       "      <td>0.433296</td>\n",
       "      <td>0.067157</td>\n",
       "      <td>0.202250</td>\n",
       "    </tr>\n",
       "    <tr>\n",
       "      <th>2</th>\n",
       "      <td>0.131166</td>\n",
       "      <td>0.263193</td>\n",
       "      <td>0.091468</td>\n",
       "    </tr>\n",
       "    <tr>\n",
       "      <th>3</th>\n",
       "      <td>0.207960</td>\n",
       "      <td>0.305838</td>\n",
       "      <td>0.095005</td>\n",
       "    </tr>\n",
       "    <tr>\n",
       "      <th>4</th>\n",
       "      <td>0.219170</td>\n",
       "      <td>0.119867</td>\n",
       "      <td>0.065389</td>\n",
       "    </tr>\n",
       "  </tbody>\n",
       "</table>\n",
       "</div>"
      ],
      "text/plain": [
       "   workless people    salary  crime level\n",
       "0         0.093610  0.060362     0.016975\n",
       "1         0.433296  0.067157     0.202250\n",
       "2         0.131166  0.263193     0.091468\n",
       "3         0.207960  0.305838     0.095005\n",
       "4         0.219170  0.119867     0.065389"
      ]
     },
     "execution_count": 339,
     "metadata": {},
     "output_type": "execute_result"
    }
   ],
   "source": [
    "new_df.head()"
   ]
  },
  {
   "cell_type": "code",
   "execution_count": 340,
   "metadata": {},
   "outputs": [],
   "source": [
    "X =  pd.concat([new_df['workless people'], new_df['salary']], axis=1, keys=['workless people', 'salary'])"
   ]
  },
  {
   "cell_type": "code",
   "execution_count": 341,
   "metadata": {},
   "outputs": [],
   "source": [
    "y = new_df['crime level'].tolist()"
   ]
  },
  {
   "cell_type": "code",
   "execution_count": 342,
   "metadata": {},
   "outputs": [
    {
     "data": {
      "text/html": [
       "<div>\n",
       "<style scoped>\n",
       "    .dataframe tbody tr th:only-of-type {\n",
       "        vertical-align: middle;\n",
       "    }\n",
       "\n",
       "    .dataframe tbody tr th {\n",
       "        vertical-align: top;\n",
       "    }\n",
       "\n",
       "    .dataframe thead th {\n",
       "        text-align: right;\n",
       "    }\n",
       "</style>\n",
       "<table border=\"1\" class=\"dataframe\">\n",
       "  <thead>\n",
       "    <tr style=\"text-align: right;\">\n",
       "      <th></th>\n",
       "      <th>workless people</th>\n",
       "      <th>salary</th>\n",
       "    </tr>\n",
       "  </thead>\n",
       "  <tbody>\n",
       "    <tr>\n",
       "      <th>0</th>\n",
       "      <td>0.093610</td>\n",
       "      <td>0.060362</td>\n",
       "    </tr>\n",
       "    <tr>\n",
       "      <th>1</th>\n",
       "      <td>0.433296</td>\n",
       "      <td>0.067157</td>\n",
       "    </tr>\n",
       "    <tr>\n",
       "      <th>2</th>\n",
       "      <td>0.131166</td>\n",
       "      <td>0.263193</td>\n",
       "    </tr>\n",
       "    <tr>\n",
       "      <th>3</th>\n",
       "      <td>0.207960</td>\n",
       "      <td>0.305838</td>\n",
       "    </tr>\n",
       "    <tr>\n",
       "      <th>4</th>\n",
       "      <td>0.219170</td>\n",
       "      <td>0.119867</td>\n",
       "    </tr>\n",
       "  </tbody>\n",
       "</table>\n",
       "</div>"
      ],
      "text/plain": [
       "   workless people    salary\n",
       "0         0.093610  0.060362\n",
       "1         0.433296  0.067157\n",
       "2         0.131166  0.263193\n",
       "3         0.207960  0.305838\n",
       "4         0.219170  0.119867"
      ]
     },
     "execution_count": 342,
     "metadata": {},
     "output_type": "execute_result"
    }
   ],
   "source": [
    "X.head()"
   ]
  },
  {
   "cell_type": "markdown",
   "metadata": {},
   "source": [
    "### Разбиваем выборку на train и test"
   ]
  },
  {
   "cell_type": "code",
   "execution_count": 343,
   "metadata": {},
   "outputs": [],
   "source": [
    "from sklearn.model_selection import train_test_split"
   ]
  },
  {
   "cell_type": "code",
   "execution_count": 344,
   "metadata": {},
   "outputs": [],
   "source": [
    "X_train, X_test, y_train, y_test = train_test_split(X,y, test_size=0.3, random_state=0)"
   ]
  },
  {
   "cell_type": "code",
   "execution_count": 345,
   "metadata": {},
   "outputs": [
    {
     "data": {
      "text/plain": [
       "238"
      ]
     },
     "execution_count": 345,
     "metadata": {},
     "output_type": "execute_result"
    }
   ],
   "source": [
    "len(X_train)"
   ]
  },
  {
   "cell_type": "markdown",
   "metadata": {},
   "source": [
    "### Модели "
   ]
  },
  {
   "cell_type": "markdown",
   "metadata": {},
   "source": [
    " ### 1. Линейная регрессия"
   ]
  },
  {
   "cell_type": "code",
   "execution_count": 346,
   "metadata": {},
   "outputs": [],
   "source": [
    "from sklearn.linear_model import LinearRegression\n",
    "from sklearn.linear_model import BayesianRidge"
   ]
  },
  {
   "cell_type": "code",
   "execution_count": 347,
   "metadata": {},
   "outputs": [],
   "source": [
    "reg = LinearRegression().fit(X_train, y_train)"
   ]
  },
  {
   "cell_type": "code",
   "execution_count": 348,
   "metadata": {},
   "outputs": [
    {
     "data": {
      "text/plain": [
       "0.6149450746846059"
      ]
     },
     "execution_count": 348,
     "metadata": {},
     "output_type": "execute_result"
    }
   ],
   "source": [
    "reg.score(X_test, y_test)"
   ]
  },
  {
   "cell_type": "code",
   "execution_count": 349,
   "metadata": {},
   "outputs": [],
   "source": [
    "y_predict=reg.predict(X_test)"
   ]
  },
  {
   "cell_type": "code",
   "execution_count": 350,
   "metadata": {},
   "outputs": [],
   "source": [
    "from sklearn.metrics import mean_absolute_error"
   ]
  },
  {
   "cell_type": "code",
   "execution_count": 351,
   "metadata": {},
   "outputs": [
    {
     "data": {
      "text/plain": [
       "0.04496633254565566"
      ]
     },
     "execution_count": 351,
     "metadata": {},
     "output_type": "execute_result"
    }
   ],
   "source": [
    "mean_absolute_error(y_test, y_predict)"
   ]
  },
  {
   "cell_type": "code",
   "execution_count": 352,
   "metadata": {},
   "outputs": [
    {
     "data": {
      "text/plain": [
       "BayesianRidge(alpha_1=1e-06, alpha_2=1e-06, compute_score=False, copy_X=True,\n",
       "              fit_intercept=True, lambda_1=1e-06, lambda_2=1e-06, n_iter=300,\n",
       "              normalize=False, tol=0.001, verbose=False)"
      ]
     },
     "execution_count": 352,
     "metadata": {},
     "output_type": "execute_result"
    }
   ],
   "source": [
    "clf = BayesianRidge()\n",
    "clf.fit(X_train, y_train)"
   ]
  },
  {
   "cell_type": "code",
   "execution_count": 353,
   "metadata": {},
   "outputs": [
    {
     "data": {
      "text/plain": [
       "0.6133205819189884"
      ]
     },
     "execution_count": 353,
     "metadata": {},
     "output_type": "execute_result"
    }
   ],
   "source": [
    "clf.score(X_test, y_test)"
   ]
  },
  {
   "cell_type": "code",
   "execution_count": 354,
   "metadata": {},
   "outputs": [],
   "source": [
    "y_predict=clf.predict(X_test)"
   ]
  },
  {
   "cell_type": "code",
   "execution_count": 355,
   "metadata": {},
   "outputs": [
    {
     "data": {
      "text/plain": [
       "0.04504845245949638"
      ]
     },
     "execution_count": 355,
     "metadata": {},
     "output_type": "execute_result"
    }
   ],
   "source": [
    "mean_absolute_error(y_test, y_predict)"
   ]
  },
  {
   "cell_type": "code",
   "execution_count": 356,
   "metadata": {},
   "outputs": [],
   "source": [
    "import pandas as pd\n",
    "from statistics import mean\n",
    "import numpy as np\n",
    "from sklearn.tree import DecisionTreeRegressor\n",
    "from sklearn.ensemble import RandomForestRegressor\n",
    "from sklearn.model_selection import GridSearchCV, cross_val_score\n",
    "from sklearn.metrics import mean_absolute_error, mean_squared_error\n",
    "from matplotlib import pyplot as plt\n",
    "import xgboost\n",
    "import lightgbm"
   ]
  },
  {
   "cell_type": "markdown",
   "metadata": {},
   "source": [
    "#### DecisionTreeRegressor"
   ]
  },
  {
   "cell_type": "code",
   "execution_count": 100,
   "metadata": {},
   "outputs": [
    {
     "name": "stdout",
     "output_type": "stream",
     "text": [
      "Fitting 5 folds for each of 40 candidates, totalling 200 fits\n"
     ]
    },
    {
     "name": "stderr",
     "output_type": "stream",
     "text": [
      "[Parallel(n_jobs=-1)]: Using backend LokyBackend with 8 concurrent workers.\n",
      "[Parallel(n_jobs=-1)]: Done  34 tasks      | elapsed:   10.1s\n"
     ]
    },
    {
     "name": "stdout",
     "output_type": "stream",
     "text": [
      "{'max_depth': 5, 'min_samples_leaf': 2}\n",
      "0.7969770153376174\n"
     ]
    },
    {
     "name": "stderr",
     "output_type": "stream",
     "text": [
      "[Parallel(n_jobs=-1)]: Done 200 out of 200 | elapsed:   10.4s finished\n",
      "C:\\ProgramData\\Anaconda3\\lib\\site-packages\\sklearn\\model_selection\\_search.py:813: DeprecationWarning: The default of the `iid` parameter will change from True to False in version 0.22 and will be removed in 0.24. This will change numeric results when test-set sizes are unequal.\n",
      "  DeprecationWarning)\n"
     ]
    }
   ],
   "source": [
    "#tuning of parametes\n",
    "tree_params = {'max_depth': range(1,11),\n",
    "                'min_samples_leaf': range(1,5)}\n",
    "\n",
    "tree = DecisionTreeRegressor(random_state=17)\n",
    "\n",
    "tree_grid = GridSearchCV(tree, tree_params,\n",
    "                         cv=5, n_jobs=-1, verbose=True)\n",
    "\n",
    "tree_grid.fit(X_train, y_train)\n",
    "\n",
    "print(tree_grid.best_params_)\n",
    "\n",
    "print(tree_grid.best_score_)"
   ]
  },
  {
   "cell_type": "code",
   "execution_count": 357,
   "metadata": {},
   "outputs": [
    {
     "name": "stdout",
     "output_type": "stream",
     "text": [
      "The coefficient of determination R^2 of the prediction. 0.7901704787292931\n",
      "0.7970477793506682\n",
      "Decision tree regressor, MAE =  0.03686846720425683\n"
     ]
    }
   ],
   "source": [
    "tree = DecisionTreeRegressor(random_state=17, max_depth=5, min_samples_leaf=2)\n",
    "\n",
    "tree.fit(X_train, y_train)\n",
    "\n",
    "print(\"The coefficient of determination R^2 of the prediction.\", tree.score(X_test,y_test))\n",
    "\n",
    "print(np.mean(cross_val_score(tree, X_train, y_train, cv=5)))\n",
    "\n",
    "reg_tree_pred = tree.predict(X_test)\n",
    "\n",
    "print(\"Decision tree regressor, MAE = \", mean_absolute_error(y_test, reg_tree_pred))"
   ]
  },
  {
   "cell_type": "code",
   "execution_count": 358,
   "metadata": {},
   "outputs": [
    {
     "data": {
      "text/plain": [
       "Text(0, 0.5, 'True values')"
      ]
     },
     "execution_count": 358,
     "metadata": {},
     "output_type": "execute_result"
    },
    {
     "data": {
      "image/png": "[encoded data removed]",
      "text/plain": [
       "<Figure size 432x288 with 1 Axes>"
      ]
     },
     "metadata": {
      "needs_background": "light"
     },
     "output_type": "display_data"
    }
   ],
   "source": [
    "plt.scatter(reg_tree_pred,  y_test,\n",
    "            c='lightgreen', marker='s', label='Test data')\n",
    "plt.xlabel('Predicted values')\n",
    "plt.ylabel('True values')"
   ]
  },
  {
   "cell_type": "markdown",
   "metadata": {},
   "source": [
    "#### RandomForestRegressor"
   ]
  },
  {
   "cell_type": "code",
   "execution_count": 117,
   "metadata": {},
   "outputs": [
    {
     "name": "stdout",
     "output_type": "stream",
     "text": [
      "Fitting 5 folds for each of 1944 candidates, totalling 9720 fits\n"
     ]
    },
    {
     "name": "stderr",
     "output_type": "stream",
     "text": [
      "[Parallel(n_jobs=-1)]: Using backend LokyBackend with 8 concurrent workers.\n",
      "[Parallel(n_jobs=-1)]: Done  34 tasks      | elapsed:   12.3s\n",
      "[Parallel(n_jobs=-1)]: Done 184 tasks      | elapsed:   48.7s\n",
      "[Parallel(n_jobs=-1)]: Done 434 tasks      | elapsed:  1.8min\n",
      "[Parallel(n_jobs=-1)]: Done 784 tasks      | elapsed:  3.2min\n",
      "[Parallel(n_jobs=-1)]: Done 1234 tasks      | elapsed:  5.0min\n",
      "[Parallel(n_jobs=-1)]: Done 1784 tasks      | elapsed:  7.2min\n",
      "[Parallel(n_jobs=-1)]: Done 2434 tasks      | elapsed:  9.8min\n",
      "[Parallel(n_jobs=-1)]: Done 3184 tasks      | elapsed: 12.9min\n",
      "[Parallel(n_jobs=-1)]: Done 4034 tasks      | elapsed: 16.4min\n",
      "[Parallel(n_jobs=-1)]: Done 4984 tasks      | elapsed: 20.2min\n",
      "[Parallel(n_jobs=-1)]: Done 6034 tasks      | elapsed: 23.6min\n",
      "[Parallel(n_jobs=-1)]: Done 7184 tasks      | elapsed: 27.7min\n",
      "[Parallel(n_jobs=-1)]: Done 8434 tasks      | elapsed: 32.3min\n",
      "[Parallel(n_jobs=-1)]: Done 9720 out of 9720 | elapsed: 37.3min finished\n",
      "C:\\ProgramData\\Anaconda3\\lib\\site-packages\\sklearn\\model_selection\\_search.py:813: DeprecationWarning: The default of the `iid` parameter will change from True to False in version 0.22 and will be removed in 0.24. This will change numeric results when test-set sizes are unequal.\n",
      "  DeprecationWarning)\n"
     ]
    },
    {
     "name": "stdout",
     "output_type": "stream",
     "text": [
      "{'bootstrap': False, 'max_depth': 5, 'max_features': 'auto', 'min_samples_leaf': 2, 'min_samples_split': 10, 'n_estimators': 1600}\n",
      "0.8162147197443523\n"
     ]
    }
   ],
   "source": [
    "tree_params = {'bootstrap': [True, False],\n",
    " 'max_depth': [2, 5, 10, 20, 30, 50, 70, 100, None],\n",
    " 'max_features': ['auto', 'sqrt'],\n",
    " 'min_samples_leaf': range(2,5),\n",
    " 'min_samples_split': [2, 5, 10],\n",
    " 'n_estimators': [100, 200, 400, 700, 1000, 1600]}\n",
    "\n",
    "random_forest = RandomForestRegressor()\n",
    "\n",
    "forest_grid = GridSearchCV(random_forest, tree_params,\n",
    "                         cv=5, n_jobs=-1, verbose=True)\n",
    "\n",
    "forest_grid.fit(X_train, y_train)\n",
    "\n",
    "print(forest_grid.best_params_) #{'max_depth': 10, 'min_samples_leaf': 4}\n",
    "print(forest_grid.best_score_) #0.9228446352805121"
   ]
  },
  {
   "cell_type": "code",
   "execution_count": 359,
   "metadata": {},
   "outputs": [
    {
     "name": "stdout",
     "output_type": "stream",
     "text": [
      "Random forest score = 0.7997976358969136\n",
      "Mean absolute error =  0.03644011125682746\n"
     ]
    }
   ],
   "source": [
    "random_forest = RandomForestRegressor(n_estimators=1600, criterion='mse', max_depth=5, min_samples_split=10, min_samples_leaf=2, min_weight_fraction_leaf=0.0, max_features='auto', max_leaf_nodes=None, min_impurity_decrease=0.0, min_impurity_split=None, bootstrap=False, oob_score=False, n_jobs=None, random_state=None, verbose=0, warm_start=False)\n",
    "random_forest.fit(X_train, y_train)\n",
    "print(\"Random forest score =\", random_forest.score(X_test, y_test))\n",
    "forest_pred = random_forest.predict(X_test)\n",
    "print(\"Mean absolute error = \", mean_absolute_error(y_test, forest_pred))"
   ]
  },
  {
   "cell_type": "code",
   "execution_count": 360,
   "metadata": {},
   "outputs": [
    {
     "data": {
      "text/plain": [
       "Text(0, 0.5, 'True values')"
      ]
     },
     "execution_count": 360,
     "metadata": {},
     "output_type": "execute_result"
    },
    {
     "data": {
      "image/png": "[encoded data removed]",
      "text/plain": [
       "<Figure size 432x288 with 1 Axes>"
      ]
     },
     "metadata": {
      "needs_background": "light"
     },
     "output_type": "display_data"
    }
   ],
   "source": [
    "plt.scatter(forest_pred,  y_test,\n",
    "            c='lightgreen', marker='s', label='Test data')\n",
    "plt.xlabel('Predicted values')\n",
    "plt.ylabel('True values')"
   ]
  },
  {
   "cell_type": "markdown",
   "metadata": {},
   "source": [
    "#### xgboost"
   ]
  },
  {
   "cell_type": "code",
   "execution_count": 127,
   "metadata": {},
   "outputs": [
    {
     "name": "stderr",
     "output_type": "stream",
     "text": [
      "C:\\ProgramData\\Anaconda3\\lib\\site-packages\\sklearn\\model_selection\\_split.py:1978: FutureWarning: The default value of cv will change from 3 to 5 in version 0.22. Specify it explicitly to silence this warning.\n",
      "  warnings.warn(CV_WARNING, FutureWarning)\n",
      "[Parallel(n_jobs=6)]: Using backend LokyBackend with 6 concurrent workers.\n"
     ]
    },
    {
     "name": "stdout",
     "output_type": "stream",
     "text": [
      "Fitting 3 folds for each of 288 candidates, totalling 864 fits\n"
     ]
    },
    {
     "name": "stderr",
     "output_type": "stream",
     "text": [
      "[Parallel(n_jobs=6)]: Done   1 tasks      | elapsed:   14.2s\n",
      "[Parallel(n_jobs=6)]: Done   6 tasks      | elapsed:   15.0s\n",
      "[Parallel(n_jobs=6)]: Done  13 tasks      | elapsed:   25.1s\n",
      "[Parallel(n_jobs=6)]: Done  20 tasks      | elapsed:   29.6s\n",
      "[Parallel(n_jobs=6)]: Done  29 tasks      | elapsed:   38.1s\n",
      "[Parallel(n_jobs=6)]: Done  38 tasks      | elapsed:   53.1s\n",
      "[Parallel(n_jobs=6)]: Done  49 tasks      | elapsed:  1.1min\n",
      "[Parallel(n_jobs=6)]: Done  60 tasks      | elapsed:  1.2min\n",
      "[Parallel(n_jobs=6)]: Done  73 tasks      | elapsed:  1.4min\n",
      "[Parallel(n_jobs=6)]: Done  86 tasks      | elapsed:  1.7min\n",
      "[Parallel(n_jobs=6)]: Done 101 tasks      | elapsed:  1.9min\n",
      "[Parallel(n_jobs=6)]: Done 116 tasks      | elapsed:  2.2min\n",
      "[Parallel(n_jobs=6)]: Done 133 tasks      | elapsed:  2.7min\n",
      "[Parallel(n_jobs=6)]: Done 150 tasks      | elapsed:  3.0min\n",
      "[Parallel(n_jobs=6)]: Done 169 tasks      | elapsed:  3.4min\n",
      "[Parallel(n_jobs=6)]: Done 188 tasks      | elapsed:  3.8min\n",
      "[Parallel(n_jobs=6)]: Done 209 tasks      | elapsed:  4.2min\n",
      "[Parallel(n_jobs=6)]: Done 230 tasks      | elapsed:  4.7min\n",
      "[Parallel(n_jobs=6)]: Done 253 tasks      | elapsed:  5.3min\n",
      "[Parallel(n_jobs=6)]: Done 276 tasks      | elapsed:  5.8min\n",
      "[Parallel(n_jobs=6)]: Done 301 tasks      | elapsed:  6.3min\n",
      "[Parallel(n_jobs=6)]: Done 326 tasks      | elapsed:  6.8min\n",
      "[Parallel(n_jobs=6)]: Done 353 tasks      | elapsed:  7.4min\n",
      "[Parallel(n_jobs=6)]: Done 380 tasks      | elapsed:  8.0min\n",
      "[Parallel(n_jobs=6)]: Done 409 tasks      | elapsed:  8.8min\n",
      "[Parallel(n_jobs=6)]: Done 438 tasks      | elapsed:  9.4min\n",
      "[Parallel(n_jobs=6)]: Done 469 tasks      | elapsed:  9.9min\n",
      "[Parallel(n_jobs=6)]: Done 500 tasks      | elapsed: 10.4min\n",
      "[Parallel(n_jobs=6)]: Done 533 tasks      | elapsed: 10.9min\n",
      "[Parallel(n_jobs=6)]: Done 566 tasks      | elapsed: 11.6min\n",
      "[Parallel(n_jobs=6)]: Done 601 tasks      | elapsed: 12.3min\n",
      "[Parallel(n_jobs=6)]: Done 636 tasks      | elapsed: 12.9min\n",
      "[Parallel(n_jobs=6)]: Done 673 tasks      | elapsed: 13.9min\n",
      "[Parallel(n_jobs=6)]: Done 710 tasks      | elapsed: 14.7min\n",
      "[Parallel(n_jobs=6)]: Done 749 tasks      | elapsed: 15.6min\n",
      "[Parallel(n_jobs=6)]: Done 788 tasks      | elapsed: 16.4min\n",
      "[Parallel(n_jobs=6)]: Done 829 tasks      | elapsed: 17.6min\n",
      "[Parallel(n_jobs=6)]: Done 864 out of 864 | elapsed: 18.5min finished\n"
     ]
    },
    {
     "data": {
      "text/plain": [
       "GridSearchCV(cv='warn', error_score='raise-deprecating',\n",
       "             estimator=XGBRegressor(base_score=None, booster=None,\n",
       "                                    colsample_bylevel=None,\n",
       "                                    colsample_bynode=None, colsample_bytree=0.8,\n",
       "                                    gamma=0, gpu_id=None,\n",
       "                                    importance_type='gain',\n",
       "                                    interaction_constraints=None,\n",
       "                                    learning_rate=0.1, max_delta_step=None,\n",
       "                                    max_depth=5, min_child_weight=1,\n",
       "                                    missing=nan, monotone_constraints=Non...\n",
       "             iid=False, n_jobs=6,\n",
       "             param_grid={'colsample_bytree': [0.4, 0.6],\n",
       "                         'gamma': [0, 0.03, 0.1], 'learning_rate': [0.07],\n",
       "                         'max_depth': [3, 5], 'min_child_weight': [1.5, 6, 10],\n",
       "                         'n_estimators': [10000], 'reg_alpha': [0.01, 0.75],\n",
       "                         'reg_lambda': [0.01, 0.45], 'subsample': [0.6, 0.95]},\n",
       "             pre_dispatch='2*n_jobs', refit=True, return_train_score=False,\n",
       "             scoring='neg_mean_squared_error', verbose=10)"
      ]
     },
     "execution_count": 127,
     "metadata": {},
     "output_type": "execute_result"
    }
   ],
   "source": [
    "#for tuning parameters\n",
    "parameters_for_testing = {\n",
    "    'colsample_bytree':[0.4,0.6],\n",
    "    'gamma':[0,0.03,0.1],\n",
    "    'min_child_weight':[1.5,6,10],\n",
    "    'learning_rate':[0.07],\n",
    "    'max_depth':[3,5],\n",
    "    'n_estimators':[10000],\n",
    "    'reg_alpha':[1e-2,  0.75],\n",
    "    'reg_lambda':[1e-2, 0.45],\n",
    "    'subsample':[0.6,0.95]  \n",
    "}\n",
    "\n",
    "                    \n",
    "xgb_model = xgboost.XGBRegressor(learning_rate =0.1, n_estimators=1000, max_depth=5,\n",
    "     min_child_weight=1, gamma=0, subsample=0.8, colsample_bytree=0.8, nthread=6, scale_pos_weight=1, seed=27)\n",
    "\n",
    "gsearch = GridSearchCV(estimator = xgb_model, param_grid = parameters_for_testing, n_jobs=6,iid=False, verbose=10,scoring='neg_mean_squared_error')\n",
    "gsearch.fit(X_train,y_train)"
   ]
  },
  {
   "cell_type": "code",
   "execution_count": 192,
   "metadata": {},
   "outputs": [
    {
     "name": "stdout",
     "output_type": "stream",
     "text": [
      "best params\n",
      "{'colsample_bytree': 0.4, 'gamma': 0, 'learning_rate': 0.07, 'max_depth': 3, 'min_child_weight': 6, 'n_estimators': 10000, 'reg_alpha': 0.75, 'reg_lambda': 0.01, 'subsample': 0.6}\n",
      "best score\n",
      "-0.0052828634590564175\n"
     ]
    }
   ],
   "source": [
    "print('best params')\n",
    "print (gsearch.best_params_)\n",
    "print('best score')\n",
    "print (gsearch.best_score_)"
   ]
  },
  {
   "cell_type": "code",
   "execution_count": 193,
   "metadata": {},
   "outputs": [
    {
     "name": "stdout",
     "output_type": "stream",
     "text": [
      "best_xgb_model score:  0.58983496538181\n",
      "Mean absolute error:  0.04518973952328344\n"
     ]
    }
   ],
   "source": [
    "best_xgb_model = xgboost.XGBRegressor(colsample_bytree=0.4,\n",
    "                 gamma=0,                 \n",
    "                 learning_rate=0.07,\n",
    "                 max_depth=3,\n",
    "                 min_child_weight=6,\n",
    "                 n_estimators=10000,                                                                    \n",
    "                 reg_alpha=0.75,\n",
    "                 reg_lambda=0.01,\n",
    "                 subsample=0.6,\n",
    "                 seed=42)\n",
    "best_xgb_model.fit(X_train,y_train)\n",
    "\n",
    "print(\"best_xgb_model score: \",best_xgb_model.score(X_test,y_test))\n",
    "\n",
    "\n",
    "xgb_pred = best_xgb_model.predict(X_test)\n",
    "\n",
    "print(\"Mean absolute error: \",mean_absolute_error(y_test, xgb_pred))"
   ]
  },
  {
   "cell_type": "markdown",
   "metadata": {},
   "source": [
    "#### lightgbm"
   ]
  },
  {
   "cell_type": "code",
   "execution_count": 134,
   "metadata": {},
   "outputs": [],
   "source": [
    "lightgbm = lightgbm.LGBMRegressor(boosting_type='gbdt',\n",
    "                               num_leaves=100,\n",
    "                               learning_rate=0.05)"
   ]
  },
  {
   "cell_type": "code",
   "execution_count": 135,
   "metadata": {},
   "outputs": [
    {
     "data": {
      "text/plain": [
       "LGBMRegressor(boosting_type='gbdt', class_weight=None, colsample_bytree=1.0,\n",
       "              importance_type='split', learning_rate=0.05, max_depth=-1,\n",
       "              min_child_samples=20, min_child_weight=0.001, min_split_gain=0.0,\n",
       "              n_estimators=100, n_jobs=-1, num_leaves=100, objective=None,\n",
       "              random_state=None, reg_alpha=0.0, reg_lambda=0.0, silent=True,\n",
       "              subsample=1.0, subsample_for_bin=200000, subsample_freq=0)"
      ]
     },
     "execution_count": 135,
     "metadata": {},
     "output_type": "execute_result"
    }
   ],
   "source": [
    "lightgbm.fit(X_train,y_train)"
   ]
  },
  {
   "cell_type": "code",
   "execution_count": 139,
   "metadata": {},
   "outputs": [
    {
     "data": {
      "text/plain": [
       "0.6697822033344962"
      ]
     },
     "execution_count": 139,
     "metadata": {},
     "output_type": "execute_result"
    }
   ],
   "source": [
    "lightgbm.score(X_test,y_test)"
   ]
  },
  {
   "cell_type": "code",
   "execution_count": 136,
   "metadata": {},
   "outputs": [
    {
     "name": "stdout",
     "output_type": "stream",
     "text": [
      "0.6729407460251933\n"
     ]
    }
   ],
   "source": [
    "print(np.mean(cross_val_score(lightgbm, X_train, y_train, cv=3)))"
   ]
  },
  {
   "cell_type": "code",
   "execution_count": 137,
   "metadata": {},
   "outputs": [],
   "source": [
    "lightgbm_pred = lightgbm.predict(X_test)"
   ]
  },
  {
   "cell_type": "code",
   "execution_count": 138,
   "metadata": {},
   "outputs": [
    {
     "data": {
      "text/plain": [
       "0.04247944263410246"
      ]
     },
     "execution_count": 138,
     "metadata": {},
     "output_type": "execute_result"
    }
   ],
   "source": [
    "mean_absolute_error(y_test, lightgbm_pred)"
   ]
  },
  {
   "cell_type": "markdown",
   "metadata": {},
   "source": [
    "Лучший результат показал RandomForestRegressor, поэтому окончательный прогноз будет сделан с помощью него.Нужно вернуть значения предсказаний к исходному виду с помощью метода inverse_transform."
   ]
  },
  {
   "cell_type": "code",
   "execution_count": 361,
   "metadata": {},
   "outputs": [],
   "source": [
    "forest_predict = pd.DataFrame(forest_pred, columns={'crime level'})"
   ]
  },
  {
   "cell_type": "code",
   "execution_count": 362,
   "metadata": {},
   "outputs": [],
   "source": [
    "X_test_copy = X_test.copy()\n",
    "X_test_copy.reset_index(inplace=True) "
   ]
  },
  {
   "cell_type": "code",
   "execution_count": 363,
   "metadata": {},
   "outputs": [
    {
     "data": {
      "text/html": [
       "<div>\n",
       "<style scoped>\n",
       "    .dataframe tbody tr th:only-of-type {\n",
       "        vertical-align: middle;\n",
       "    }\n",
       "\n",
       "    .dataframe tbody tr th {\n",
       "        vertical-align: top;\n",
       "    }\n",
       "\n",
       "    .dataframe thead th {\n",
       "        text-align: right;\n",
       "    }\n",
       "</style>\n",
       "<table border=\"1\" class=\"dataframe\">\n",
       "  <thead>\n",
       "    <tr style=\"text-align: right;\">\n",
       "      <th></th>\n",
       "      <th>index</th>\n",
       "      <th>workless people</th>\n",
       "      <th>salary</th>\n",
       "    </tr>\n",
       "  </thead>\n",
       "  <tbody>\n",
       "    <tr>\n",
       "      <th>0</th>\n",
       "      <td>225</td>\n",
       "      <td>0.125000</td>\n",
       "      <td>0.092490</td>\n",
       "    </tr>\n",
       "    <tr>\n",
       "      <th>1</th>\n",
       "      <td>271</td>\n",
       "      <td>0.118834</td>\n",
       "      <td>0.079230</td>\n",
       "    </tr>\n",
       "    <tr>\n",
       "      <th>2</th>\n",
       "      <td>204</td>\n",
       "      <td>0.268498</td>\n",
       "      <td>0.208855</td>\n",
       "    </tr>\n",
       "    <tr>\n",
       "      <th>3</th>\n",
       "      <td>274</td>\n",
       "      <td>0.258408</td>\n",
       "      <td>0.086111</td>\n",
       "    </tr>\n",
       "    <tr>\n",
       "      <th>4</th>\n",
       "      <td>299</td>\n",
       "      <td>0.067825</td>\n",
       "      <td>0.146424</td>\n",
       "    </tr>\n",
       "  </tbody>\n",
       "</table>\n",
       "</div>"
      ],
      "text/plain": [
       "   index  workless people    salary\n",
       "0    225         0.125000  0.092490\n",
       "1    271         0.118834  0.079230\n",
       "2    204         0.268498  0.208855\n",
       "3    274         0.258408  0.086111\n",
       "4    299         0.067825  0.146424"
      ]
     },
     "execution_count": 363,
     "metadata": {},
     "output_type": "execute_result"
    }
   ],
   "source": [
    "X_test_copy.head()"
   ]
  },
  {
   "cell_type": "code",
   "execution_count": 364,
   "metadata": {},
   "outputs": [],
   "source": [
    "y_result=pd.concat([X_test_copy['workless people'], X_test_copy['salary'], forest_predict['crime level']], axis=1, keys=['workless people', 'salary', 'crime level'])"
   ]
  },
  {
   "cell_type": "code",
   "execution_count": 365,
   "metadata": {},
   "outputs": [],
   "source": [
    "y_result=scaler.inverse_transform(y_result)"
   ]
  },
  {
   "cell_type": "code",
   "execution_count": 366,
   "metadata": {},
   "outputs": [
    {
     "data": {
      "text/plain": [
       "region             Республика Тыва\n",
       " year                         2015\n",
       "workless people              23200\n",
       "salary                       25664\n",
       "crime level                   8439\n",
       "population                  313777\n",
       "Name: 225, dtype: object"
      ]
     },
     "execution_count": 366,
     "metadata": {},
     "output_type": "execute_result"
    }
   ],
   "source": [
    "df.loc[225]"
   ]
  },
  {
   "cell_type": "code",
   "execution_count": 367,
   "metadata": {},
   "outputs": [],
   "source": [
    "df_result=X_test.copy()"
   ]
  },
  {
   "cell_type": "code",
   "execution_count": 368,
   "metadata": {},
   "outputs": [],
   "source": [
    "df_result['region']=df['region']\n",
    "df_result['year']=df[' year']\n",
    "df_result['crime level predicted']=np.round(y_result[:,2],0)\n",
    "df_result['workless people']=np.round(y_result[:,0],0)\n",
    "df_result['salary']=np.round(y_result[:,1],0)"
   ]
  },
  {
   "cell_type": "markdown",
   "metadata": {},
   "source": [
    "### Итоговый датасет с предсказаниями для тестовой выборки"
   ]
  },
  {
   "cell_type": "code",
   "execution_count": 369,
   "metadata": {},
   "outputs": [
    {
     "data": {
      "text/html": [
       "<div>\n",
       "<style scoped>\n",
       "    .dataframe tbody tr th:only-of-type {\n",
       "        vertical-align: middle;\n",
       "    }\n",
       "\n",
       "    .dataframe tbody tr th {\n",
       "        vertical-align: top;\n",
       "    }\n",
       "\n",
       "    .dataframe thead th {\n",
       "        text-align: right;\n",
       "    }\n",
       "</style>\n",
       "<table border=\"1\" class=\"dataframe\">\n",
       "  <thead>\n",
       "    <tr style=\"text-align: right;\">\n",
       "      <th></th>\n",
       "      <th>workless people</th>\n",
       "      <th>salary</th>\n",
       "      <th>region</th>\n",
       "      <th>year</th>\n",
       "      <th>crime level predicted</th>\n",
       "    </tr>\n",
       "  </thead>\n",
       "  <tbody>\n",
       "    <tr>\n",
       "      <th>225</th>\n",
       "      <td>23200.0</td>\n",
       "      <td>25664.0</td>\n",
       "      <td>Республика Тыва</td>\n",
       "      <td>2015</td>\n",
       "      <td>11529.0</td>\n",
       "    </tr>\n",
       "    <tr>\n",
       "      <th>271</th>\n",
       "      <td>22100.0</td>\n",
       "      <td>24581.0</td>\n",
       "      <td>Ивановская область</td>\n",
       "      <td>2018</td>\n",
       "      <td>11529.0</td>\n",
       "    </tr>\n",
       "    <tr>\n",
       "      <th>204</th>\n",
       "      <td>48800.0</td>\n",
       "      <td>35168.0</td>\n",
       "      <td>Ленинградская область</td>\n",
       "      <td>2015</td>\n",
       "      <td>29587.0</td>\n",
       "    </tr>\n",
       "    <tr>\n",
       "      <th>274</th>\n",
       "      <td>47000.0</td>\n",
       "      <td>25143.0</td>\n",
       "      <td>Кабардино-Балкарская Респ.</td>\n",
       "      <td>2018</td>\n",
       "      <td>21251.0</td>\n",
       "    </tr>\n",
       "    <tr>\n",
       "      <th>299</th>\n",
       "      <td>13000.0</td>\n",
       "      <td>30069.0</td>\n",
       "      <td>Новгородская область</td>\n",
       "      <td>2018</td>\n",
       "      <td>10593.0</td>\n",
       "    </tr>\n",
       "  </tbody>\n",
       "</table>\n",
       "</div>"
      ],
      "text/plain": [
       "     workless people   salary                      region  year  \\\n",
       "225          23200.0  25664.0             Республика Тыва  2015   \n",
       "271          22100.0  24581.0          Ивановская область  2018   \n",
       "204          48800.0  35168.0       Ленинградская область  2015   \n",
       "274          47000.0  25143.0  Кабардино-Балкарская Респ.  2018   \n",
       "299          13000.0  30069.0        Новгородская область  2018   \n",
       "\n",
       "     crime level predicted  \n",
       "225                11529.0  \n",
       "271                11529.0  \n",
       "204                29587.0  \n",
       "274                21251.0  \n",
       "299                10593.0  "
      ]
     },
     "execution_count": 369,
     "metadata": {},
     "output_type": "execute_result"
    }
   ],
   "source": [
    "df_result.head()"
   ]
  },
  {
   "cell_type": "markdown",
   "metadata": {},
   "source": [
    "#### Вычислим коэффициенты корреляции между числом преступлений, зарплатой и безработицей в выборке с предсказанной преступностью"
   ]
  },
  {
   "cell_type": "code",
   "execution_count": 370,
   "metadata": {},
   "outputs": [
    {
     "name": "stdout",
     "output_type": "stream",
     "text": [
      "Correlation coefficient between workless people and crime level: 0.7795887334219888\n"
     ]
    }
   ],
   "source": [
    "print(\"Correlation coefficient between workless people and crime level:\", np.corrcoef(df_result['workless people'],df_result['crime level predicted'])[0][1])"
   ]
  },
  {
   "cell_type": "code",
   "execution_count": 371,
   "metadata": {},
   "outputs": [
    {
     "name": "stdout",
     "output_type": "stream",
     "text": [
      "Correlation coefficient between salary and crime level: 0.25561180762651947\n"
     ]
    }
   ],
   "source": [
    "print(\"Correlation coefficient between salary and crime level:\", np.corrcoef(df_result['salary'],df_result['crime level predicted'])[0][1])"
   ]
  },
  {
   "cell_type": "markdown",
   "metadata": {},
   "source": [
    "#### Вывод:\n",
    "\n",
    "По полученным значениям можно сделать вывод, что между количеством безработных и количеством преступлений сильная прямая связь, то есть чем больше один показатель, тем больше другой. Между размером зарплаты и числом преступлений связь практически отсутствует."
   ]
  },
  {
   "cell_type": "markdown",
   "metadata": {},
   "source": [
    "По данным можно заметить, что в двух регионах с одинаковой средней зарплатой преступлений будет больше там, где число безработных больше. Как видно из коэффициента корреляции это верно не только для регионов с одинаковой зарплатой. Но проиллюстрирую пример с одинаковой зарплатой.   "
   ]
  },
  {
   "cell_type": "code",
   "execution_count": 372,
   "metadata": {},
   "outputs": [],
   "source": [
    "df_result.reset_index(inplace=True) "
   ]
  },
  {
   "cell_type": "code",
   "execution_count": 380,
   "metadata": {},
   "outputs": [
    {
     "name": "stdout",
     "output_type": "stream",
     "text": [
      "23200.0 11529.0\n",
      "47000.0 21251.0\n",
      "34200.0 16224.0\n",
      "36500.0 19197.0\n",
      "71700.0 30692.0\n",
      "17300.0 6894.0\n",
      "30600.0 16224.0\n",
      "12200.0 6894.0\n",
      "68200.0 30692.0\n",
      "57400.0 29587.0\n",
      "28300.0 11529.0\n",
      "30500.0 16224.0\n",
      "27000.0 11529.0\n",
      "29800.0 16224.0\n",
      "70200.0 30692.0\n",
      "32800.0 16224.0\n",
      "130300.0 30692.0\n",
      "86300.0 30692.0\n",
      "66300.0 30692.0\n",
      "14800.0 6894.0\n"
     ]
    }
   ],
   "source": [
    "#Для примера возьмём все строки, зарплата в которых не сильно отличается от зарплаты в первой строке, и выведем количество \n",
    "# безработных людей и количество преступлений рядом друг с другом\n",
    "for i in range(len(df_result)):\n",
    "    if (abs(df_result['salary'][0]-df_result['salary'][i])<1000):\n",
    "        print(df_result['workless people'][i],df_result['crime level predicted'][i])\n",
    "    "
   ]
  },
  {
   "cell_type": "markdown",
   "metadata": {},
   "source": [
    "То есть безработица влияет на уровень преступности, зарплата слабо влияет на уровень преступности."
   ]
  },
  {
   "cell_type": "markdown",
   "metadata": {},
   "source": [
    "У безработного человека доходы от легальной деятельности нулевые, то есть, чтобы левая часть неравенства была больше правой, достаточно, чтобы она была больше нуля.   \n",
    "\n",
    "Если человек работает, то можно подобрать параметры так, чтобы неравенство Беккера выполнялось.\n",
    "Допустим, возьмём регион со средней зарплатой 25000 - доходы от легальной деятельности. Вероятность быть пойманным примем за 0.7. Доход от кражи, допустим, 200000, наказание - штраф 30000. Тогда по формуле $0.3*200000 - 0.7*30000 = 39000 > 25000$, кража будет совершена."
   ]
  },
  {
   "cell_type": "code",
   "execution_count": 381,
   "metadata": {},
   "outputs": [
    {
     "data": {
      "text/plain": [
       "<matplotlib.axes._subplots.AxesSubplot at 0x1e52b1978d0>"
      ]
     },
     "execution_count": 381,
     "metadata": {},
     "output_type": "execute_result"
    },
    {
     "data": {
      "image/png": "[encoded data removed]",
      "text/plain": [
       "<Figure size 432x288 with 1 Axes>"
      ]
     },
     "metadata": {
      "needs_background": "light"
     },
     "output_type": "display_data"
    }
   ],
   "source": [
    "df['population'].hist()"
   ]
  },
  {
   "cell_type": "code",
   "execution_count": 387,
   "metadata": {},
   "outputs": [],
   "source": [
    "df_short = df.copy()"
   ]
  },
  {
   "cell_type": "code",
   "execution_count": 394,
   "metadata": {},
   "outputs": [],
   "source": [
    "df_short = df_short.drop(df_short[df_short['region'] == 'Москва'].index)"
   ]
  },
  {
   "cell_type": "code",
   "execution_count": 396,
   "metadata": {},
   "outputs": [
    {
     "data": {
      "text/plain": [
       "<matplotlib.axes._subplots.AxesSubplot at 0x1e52d82bf98>"
      ]
     },
     "execution_count": 396,
     "metadata": {},
     "output_type": "execute_result"
    },
    {
     "data": {
      "image/png": "[encoded data removed]",
      "text/plain": [
       "<Figure size 432x288 with 1 Axes>"
      ]
     },
     "metadata": {
      "needs_background": "light"
     },
     "output_type": "display_data"
    }
   ],
   "source": [
    "df_short['population'].hist()"
   ]
  },
  {
   "cell_type": "code",
   "execution_count": 395,
   "metadata": {},
   "outputs": [
    {
     "data": {
      "text/plain": [
       "Int64Index([], dtype='int64')"
      ]
     },
     "execution_count": 395,
     "metadata": {},
     "output_type": "execute_result"
    }
   ],
   "source": [
    "df_short[df_short['region'] == 'Москва'].index"
   ]
  },
  {
   "cell_type": "code",
   "execution_count": 397,
   "metadata": {},
   "outputs": [
    {
     "name": "stdout",
     "output_type": "stream",
     "text": [
      "Correlation coefficient between salary and crime level: -0.05066676304247349\n"
     ]
    }
   ],
   "source": [
    "print(\"Correlation coefficient between salary and crime level:\", np.corrcoef(df_short['salary'],df_short['crime level'])[0][1])"
   ]
  },
  {
   "cell_type": "code",
   "execution_count": 398,
   "metadata": {},
   "outputs": [
    {
     "data": {
      "text/plain": [
       "Int64Index([40, 125, 210, 295], dtype='int64')"
      ]
     },
     "execution_count": 398,
     "metadata": {},
     "output_type": "execute_result"
    }
   ],
   "source": [
    "df_short[df_short['region'] == 'Московская область'].index"
   ]
  },
  {
   "cell_type": "code",
   "execution_count": 399,
   "metadata": {},
   "outputs": [],
   "source": [
    "df_short = df_short.drop(df_short[df_short['region'] == 'Московская область'].index)"
   ]
  },
  {
   "cell_type": "code",
   "execution_count": 401,
   "metadata": {},
   "outputs": [
    {
     "name": "stdout",
     "output_type": "stream",
     "text": [
      "Correlation coefficient between salary and crime level: -0.089833870894396\n"
     ]
    }
   ],
   "source": [
    "print(\"Correlation coefficient between salary and crime level:\", np.corrcoef(df_short['salary'],df_short['crime level'])[0][1])"
   ]
  }
 ],
 "metadata": {
  "kernelspec": {
   "display_name": "Python 3",
   "language": "python",
   "name": "python3"
  },
  "language_info": {
   "codemirror_mode": {
    "name": "ipython",
    "version": 3
   },
   "file_extension": ".py",
   "mimetype": "text/x-python",
   "name": "python",
   "nbconvert_exporter": "python",
   "pygments_lexer": "ipython3",
   "version": "3.7.3"
  }
 },
 "nbformat": 4,
 "nbformat_minor": 2
}
